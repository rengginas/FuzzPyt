{
 "cells": [
  {
   "cell_type": "markdown",
   "metadata": {},
   "source": [
    "# termostat"
   ]
  },
  {
   "cell_type": "code",
   "execution_count": 4,
   "metadata": {},
   "outputs": [],
   "source": [
    "import numpy as np"
   ]
  },
  {
   "cell_type": "code",
   "execution_count": 5,
   "metadata": {},
   "outputs": [],
   "source": [
    "suhu = np.array([['very_cold', -30, -20, -10], \n",
    "                 ['cold', -20, -10, 0], \n",
    "                 ['cool', -10, 0, 10], \n",
    "                 ['warm', 0, 10, 20],\n",
    "                 ['hot', 10, 20, 30]])"
   ]
  },
  {
   "cell_type": "code",
   "execution_count": 6,
   "metadata": {},
   "outputs": [
    {
     "data": {
      "text/plain": [
       "array([['very_cold', '-30', '-20', '-10'],\n",
       "       ['cold', '-20', '-10', '0'],\n",
       "       ['cool', '-10', '0', '10'],\n",
       "       ['warm', '0', '10', '20'],\n",
       "       ['hot', '10', '20', '30']], dtype='<U9')"
      ]
     },
     "execution_count": 6,
     "metadata": {},
     "output_type": "execute_result"
    }
   ],
   "source": [
    "suhu"
   ]
  },
  {
   "cell_type": "code",
   "execution_count": 9,
   "metadata": {},
   "outputs": [],
   "source": [
    "def fuzztri(low, mid, high, masukan):\n",
    "    if masukan >= low and masukan <= high: \n",
    "        if masukan <= mid: \n",
    "            return (masukan - low)/ (mid - low) #degree of membership = y2 - y1 / x2 - x1 * masukan \n",
    "        else: \n",
    "            return (high - masukan) / (high - mid)#degree of membership = y2 - y1 / x2 - x1 * masukan \n",
    "    else: \n",
    "        return 0\n",
    "    "
   ]
  },
  {
   "cell_type": "code",
   "execution_count": 12,
   "metadata": {
    "scrolled": true
   },
   "outputs": [
    {
     "data": {
      "text/plain": [
       "0.5"
      ]
     },
     "execution_count": 12,
     "metadata": {},
     "output_type": "execute_result"
    }
   ],
   "source": [
    "fuzz (0,10,20, 15)"
   ]
  },
  {
   "cell_type": "code",
   "execution_count": 16,
   "metadata": {},
   "outputs": [],
   "source": [
    "def fuzztrap (low, maks_low, maks_high, high, masukan):\n",
    "    if masukan < low and masukan > high: \n",
    "        return 0\n",
    "    else:\n",
    "        if masukan >= low and masukan <= maks_low: \n",
    "            return (masukan - low)/ (maks_low - low)\n",
    "        elif masukan >= maks_low and masukan <= maks_high:\n",
    "            return 1\n",
    "        else:\n",
    "            return (high - masukan) / (high - maks_high)\n",
    "        \n",
    "    "
   ]
  },
  {
   "cell_type": "code",
   "execution_count": 19,
   "metadata": {},
   "outputs": [
    {
     "data": {
      "text/plain": [
       "0.5"
      ]
     },
     "execution_count": 19,
     "metadata": {},
     "output_type": "execute_result"
    }
   ],
   "source": [
    "fuzztrap (0,10,20,30, 25)"
   ]
  },
  {
   "cell_type": "code",
   "execution_count": 38,
   "metadata": {},
   "outputs": [],
   "source": [
    "def fuzzL(maks_low, low,masukan):\n",
    "    if masukan > low:\n",
    "        return 0\n",
    "    elif masukan >= maks_low and masukan <= low:\n",
    "        return (low - masukan)/ (low - maks_low) #degree of membership = y2 - y1 / x2 - x1 * masukan \n",
    "    else: \n",
    "        return 1"
   ]
  },
  {
   "cell_type": "code",
   "execution_count": 39,
   "metadata": {},
   "outputs": [
    {
     "data": {
      "text/plain": [
       "0"
      ]
     },
     "execution_count": 39,
     "metadata": {},
     "output_type": "execute_result"
    }
   ],
   "source": [
    "fuzzL (10,20,25)"
   ]
  },
  {
   "cell_type": "code",
   "execution_count": 40,
   "metadata": {},
   "outputs": [],
   "source": [
    "def fuzzR(high, maks_high,masukan):\n",
    "    if masukan < high:\n",
    "        return 0\n",
    "    elif masukan >= high and masukan <= maks_high:\n",
    "        return (masukan - high)/ (maks_high - high) #degree of membership = y2 - y1 / x2 - x1 * masukan \n",
    "    else: \n",
    "        return 1"
   ]
  },
  {
   "cell_type": "code",
   "execution_count": 42,
   "metadata": {},
   "outputs": [
    {
     "data": {
      "text/plain": [
       "1"
      ]
     },
     "execution_count": 42,
     "metadata": {},
     "output_type": "execute_result"
    }
   ],
   "source": [
    "fuzzR (10,20,25)"
   ]
  },
  {
   "cell_type": "code",
   "execution_count": null,
   "metadata": {},
   "outputs": [],
   "source": []
  }
 ],
 "metadata": {
  "kernelspec": {
   "display_name": "Python 3",
   "language": "python",
   "name": "python3"
  },
  "language_info": {
   "codemirror_mode": {
    "name": "ipython",
    "version": 3
   },
   "file_extension": ".py",
   "mimetype": "text/x-python",
   "name": "python",
   "nbconvert_exporter": "python",
   "pygments_lexer": "ipython3",
   "version": "3.7.3"
  }
 },
 "nbformat": 4,
 "nbformat_minor": 2
}
